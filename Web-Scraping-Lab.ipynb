{
 "cells": [
  {
   "cell_type": "markdown",
   "metadata": {},
   "source": [
    "<p style=\"text-align:center\">\n",
    "    <a href=\"https://skills.network/?utm_medium=Exinfluencer&utm_source=Exinfluencer&utm_content=000026UJ&utm_term=10006555&utm_id=NA-SkillsNetwork-Channel-SkillsNetworkCoursesIBMDA0321ENSkillsNetwork928-2022-01-01\" target=\"_blank\">\n",
    "    <img src=\"https://cf-courses-data.s3.us.cloud-object-storage.appdomain.cloud/assets/logos/SN_web_lightmode.png\" width=\"200\" alt=\"Skills Network Logo\"  />\n",
    "    </a>\n",
    "</p>\n"
   ]
  },
  {
   "cell_type": "markdown",
   "metadata": {},
   "source": [
    "# **Hands-on Lab : Web Scraping**\n"
   ]
  },
  {
   "cell_type": "markdown",
   "metadata": {},
   "source": [
    "Estimated time needed: **30 to 45** minutes\n"
   ]
  },
  {
   "cell_type": "markdown",
   "metadata": {},
   "source": [
    "## Objectives\n"
   ]
  },
  {
   "cell_type": "markdown",
   "metadata": {},
   "source": [
    "In this lab you will perform the following:\n"
   ]
  },
  {
   "cell_type": "markdown",
   "metadata": {},
   "source": [
    "* Extract information from a given web site \n",
    "* Write the scraped data into a csv file.\n"
   ]
  },
  {
   "cell_type": "markdown",
   "metadata": {},
   "source": [
    "## Extract information from the given web site\n",
    "You will extract the data from the below web site: <br> \n"
   ]
  },
  {
   "cell_type": "code",
   "execution_count": 1,
   "metadata": {},
   "outputs": [],
   "source": [
    "#this url contains the data you need to scrape\n",
    "url = \"https://cf-courses-data.s3.us.cloud-object-storage.appdomain.cloud/IBM-DA0321EN-SkillsNetwork/labs/datasets/Programming_Languages.html\""
   ]
  },
  {
   "cell_type": "markdown",
   "metadata": {},
   "source": [
    "The data you need to scrape is the **name of the programming language** and **average annual salary**.<br> It is a good idea to open the url in your web broswer and study the contents of the web page before you start to scrape.\n"
   ]
  },
  {
   "cell_type": "markdown",
   "metadata": {},
   "source": [
    "Import the required libraries\n"
   ]
  },
  {
   "cell_type": "code",
   "execution_count": 2,
   "metadata": {},
   "outputs": [],
   "source": [
    "import pandas as pd\n",
    "import numpy as np\n",
    "import requests \n",
    "import html \n",
    "from bs4 import BeautifulSoup\n",
    "import csv "
   ]
  },
  {
   "cell_type": "markdown",
   "metadata": {},
   "source": [
    "Download the webpage at the url\n"
   ]
  },
  {
   "cell_type": "code",
   "execution_count": 3,
   "metadata": {},
   "outputs": [],
   "source": [
    "response= requests.get(url)\n",
    "webpage=response.content"
   ]
  },
  {
   "cell_type": "markdown",
   "metadata": {},
   "source": [
    "Create a soup object\n"
   ]
  },
  {
   "cell_type": "code",
   "execution_count": 4,
   "metadata": {},
   "outputs": [
    {
     "name": "stdout",
     "output_type": "stream",
     "text": [
      "<!DOCTYPE html>\n",
      "<html lang=\"en\">\n",
      " <head>\n",
      "  <title>\n",
      "   Salary survey results of programming languages\n",
      "  </title>\n",
      "  <style>\n",
      "   table, th, td {\n",
      "  border: 1px solid black;\n",
      "}\n",
      "  </style>\n",
      " </head>\n",
      " <body>\n",
      "  <hr/>\n",
      "  <h2>\n",
      "   Popular Programming Languages\n",
      "  </h2>\n",
      "  <hr/>\n",
      "  <p>\n",
      "   Finding out which is the best language is a tough task. A programming language is created to solve a specific problem. A language which is good for task A may not be able to properly handle task B. Comparing programming language is never easy. What we can do, however, is find which is popular in the industry.\n",
      "  </p>\n",
      "  <p>\n",
      "   There are many ways to find the popularity of a programming languages. Counting the number of google searchs for each language is a simple way to find the popularity. GitHub and StackOverflow also can give some good pointers.\n",
      "  </p>\n",
      "  <p>\n",
      "   Salary surveys are a way to find out the programmings languages that are most in demand in the industry. Below table is the result of one such survey. When using any survey keep in mind that the results vary year on year.\n",
      "  </p>\n",
      "  <hr/>\n",
      "  <table>\n",
      "   <tbody>\n",
      "    <tr>\n",
      "     <td>\n",
      "      No.\n",
      "     </td>\n",
      "     <td>\n",
      "      Language\n",
      "     </td>\n",
      "     <td>\n",
      "      Created By\n",
      "     </td>\n",
      "     <td>\n",
      "      Average Annual Salary\n",
      "     </td>\n",
      "     <td>\n",
      "      Learning Difficulty\n",
      "     </td>\n",
      "    </tr>\n",
      "    <tr>\n",
      "     <td>\n",
      "      1\n",
      "     </td>\n",
      "     <td>\n",
      "      Python\n",
      "     </td>\n",
      "     <td>\n",
      "      Guido van Rossum\n",
      "     </td>\n",
      "     <td>\n",
      "      $114,383\n",
      "     </td>\n",
      "     <td>\n",
      "      Easy\n",
      "     </td>\n",
      "    </tr>\n",
      "    <tr>\n",
      "     <td>\n",
      "      2\n",
      "     </td>\n",
      "     <td>\n",
      "      Java\n",
      "     </td>\n",
      "     <td>\n",
      "      James Gosling\n",
      "     </td>\n",
      "     <td>\n",
      "      $101,013\n",
      "     </td>\n",
      "     <td>\n",
      "      Easy\n",
      "     </td>\n",
      "    </tr>\n",
      "    <tr>\n",
      "     <td>\n",
      "      3\n",
      "     </td>\n",
      "     <td>\n",
      "      R\n",
      "     </td>\n",
      "     <td>\n",
      "      Robert Gentleman, Ross Ihaka\n",
      "     </td>\n",
      "     <td>\n",
      "      $92,037\n",
      "     </td>\n",
      "     <td>\n",
      "      Hard\n",
      "     </td>\n",
      "    </tr>\n",
      "    <tr>\n",
      "     <td>\n",
      "      4\n",
      "     </td>\n",
      "     <td>\n",
      "      Javascript\n",
      "     </td>\n",
      "     <td>\n",
      "      Netscape\n",
      "     </td>\n",
      "     <td>\n",
      "      $110,981\n",
      "     </td>\n",
      "     <td>\n",
      "      Easy\n",
      "     </td>\n",
      "    </tr>\n",
      "    <tr>\n",
      "     <td>\n",
      "      5\n",
      "     </td>\n",
      "     <td>\n",
      "      Swift\n",
      "     </td>\n",
      "     <td>\n",
      "      Apple\n",
      "     </td>\n",
      "     <td>\n",
      "      $130,801\n",
      "     </td>\n",
      "     <td>\n",
      "      Easy\n",
      "     </td>\n",
      "    </tr>\n",
      "    <tr>\n",
      "     <td>\n",
      "      6\n",
      "     </td>\n",
      "     <td>\n",
      "      C++\n",
      "     </td>\n",
      "     <td>\n",
      "      Bjarne Stroustrup\n",
      "     </td>\n",
      "     <td>\n",
      "      $113,865\n",
      "     </td>\n",
      "     <td>\n",
      "      Hard\n",
      "     </td>\n",
      "    </tr>\n",
      "    <tr>\n",
      "     <td>\n",
      "      7\n",
      "     </td>\n",
      "     <td>\n",
      "      C#\n",
      "     </td>\n",
      "     <td>\n",
      "      Microsoft\n",
      "     </td>\n",
      "     <td>\n",
      "      $88,726\n",
      "     </td>\n",
      "     <td>\n",
      "      Hard\n",
      "     </td>\n",
      "    </tr>\n",
      "    <tr>\n",
      "     <td>\n",
      "      8\n",
      "     </td>\n",
      "     <td>\n",
      "      PHP\n",
      "     </td>\n",
      "     <td>\n",
      "      Rasmus Lerdorf\n",
      "     </td>\n",
      "     <td>\n",
      "      $84,727\n",
      "     </td>\n",
      "     <td>\n",
      "      Easy\n",
      "     </td>\n",
      "    </tr>\n",
      "    <tr>\n",
      "     <td>\n",
      "      9\n",
      "     </td>\n",
      "     <td>\n",
      "      SQL\n",
      "     </td>\n",
      "     <td>\n",
      "      Donald D. Chamberlin, Raymond F. Boyce.\n",
      "     </td>\n",
      "     <td>\n",
      "      $84,793\n",
      "     </td>\n",
      "     <td>\n",
      "      Easy\n",
      "     </td>\n",
      "    </tr>\n",
      "    <tr>\n",
      "     <td>\n",
      "      10\n",
      "     </td>\n",
      "     <td>\n",
      "      Go\n",
      "     </td>\n",
      "     <td>\n",
      "      Robert Griesemer, Ken Thompson, Rob Pike.\n",
      "     </td>\n",
      "     <td>\n",
      "      $94,082\n",
      "     </td>\n",
      "     <td>\n",
      "      Difficult\n",
      "     </td>\n",
      "    </tr>\n",
      "   </tbody>\n",
      "  </table>\n",
      "  <hr/>\n",
      " </body>\n",
      "</html>\n"
     ]
    }
   ],
   "source": [
    "soup=BeautifulSoup(webpage,'html.parser')\n",
    "print(soup.prettify())"
   ]
  },
  {
   "cell_type": "markdown",
   "metadata": {},
   "source": [
    "Scrape the `Language name` and `annual average salary`.\n"
   ]
  },
  {
   "cell_type": "code",
   "execution_count": 10,
   "metadata": {},
   "outputs": [
    {
     "data": {
      "text/html": [
       "<div>\n",
       "<style scoped>\n",
       "    .dataframe tbody tr th:only-of-type {\n",
       "        vertical-align: middle;\n",
       "    }\n",
       "\n",
       "    .dataframe tbody tr th {\n",
       "        vertical-align: top;\n",
       "    }\n",
       "\n",
       "    .dataframe thead th {\n",
       "        text-align: right;\n",
       "    }\n",
       "</style>\n",
       "<table border=\"1\" class=\"dataframe\">\n",
       "  <thead>\n",
       "    <tr style=\"text-align: right;\">\n",
       "      <th></th>\n",
       "      <th>Average Annual Salary</th>\n",
       "      <th>Language</th>\n",
       "    </tr>\n",
       "  </thead>\n",
       "  <tbody>\n",
       "    <tr>\n",
       "      <th>0</th>\n",
       "      <td>114383</td>\n",
       "      <td>Python</td>\n",
       "    </tr>\n",
       "    <tr>\n",
       "      <th>1</th>\n",
       "      <td>101013</td>\n",
       "      <td>Java</td>\n",
       "    </tr>\n",
       "    <tr>\n",
       "      <th>2</th>\n",
       "      <td>92037</td>\n",
       "      <td>R</td>\n",
       "    </tr>\n",
       "    <tr>\n",
       "      <th>3</th>\n",
       "      <td>110981</td>\n",
       "      <td>Javascript</td>\n",
       "    </tr>\n",
       "    <tr>\n",
       "      <th>4</th>\n",
       "      <td>130801</td>\n",
       "      <td>Swift</td>\n",
       "    </tr>\n",
       "    <tr>\n",
       "      <th>5</th>\n",
       "      <td>113865</td>\n",
       "      <td>C++</td>\n",
       "    </tr>\n",
       "    <tr>\n",
       "      <th>6</th>\n",
       "      <td>88726</td>\n",
       "      <td>C#</td>\n",
       "    </tr>\n",
       "    <tr>\n",
       "      <th>7</th>\n",
       "      <td>84727</td>\n",
       "      <td>PHP</td>\n",
       "    </tr>\n",
       "    <tr>\n",
       "      <th>8</th>\n",
       "      <td>84793</td>\n",
       "      <td>SQL</td>\n",
       "    </tr>\n",
       "    <tr>\n",
       "      <th>9</th>\n",
       "      <td>94082</td>\n",
       "      <td>Go</td>\n",
       "    </tr>\n",
       "  </tbody>\n",
       "</table>\n",
       "</div>"
      ],
      "text/plain": [
       "0  Average Annual Salary    Language\n",
       "0                 114383      Python\n",
       "1                 101013        Java\n",
       "2                  92037           R\n",
       "3                 110981  Javascript\n",
       "4                 130801       Swift\n",
       "5                 113865         C++\n",
       "6                  88726          C#\n",
       "7                  84727         PHP\n",
       "8                  84793         SQL\n",
       "9                  94082          Go"
      ]
     },
     "execution_count": 10,
     "metadata": {},
     "output_type": "execute_result"
    }
   ],
   "source": [
    "parameters =soup.find_all('tr')\n",
    "lan_name_list=[]\n",
    "avr_salary_list=[]\n",
    "\n",
    "for i in parameters:\n",
    "    lan_name=i.find_all('td')[1].text.strip()\n",
    "    avr_salary=i.find_all('td')[3].text.replace('$',\"\").replace(',','')\n",
    "    avr_salary= avr_salary\n",
    "    lan_name_list.append(lan_name)\n",
    "    avr_salary_list.append(avr_salary)\n",
    "df=pd.DataFrame(lan_name_list,avr_salary_list)\n",
    "df.reset_index(inplace=True)\n",
    "df.columns=df.iloc[0]\n",
    "df.drop(0,inplace=True)\n",
    "df.reset_index(inplace=True,drop=True)\n",
    "df['Average Annual Salary']=df['Average Annual Salary'].map(lambda x : int(x))\n",
    "df.sort_values(by='Average Annual Salary')\n",
    "\n",
    "df"
   ]
  },
  {
   "cell_type": "markdown",
   "metadata": {},
   "source": [
    "Save the scrapped data into a file named *popular-languages.csv*\n"
   ]
  },
  {
   "cell_type": "code",
   "execution_count": 6,
   "metadata": {},
   "outputs": [],
   "source": [
    "df.to_csv('popular-languages.csv')\n",
    "\n"
   ]
  },
  {
   "cell_type": "markdown",
   "metadata": {},
   "source": [
    "## Authors\n"
   ]
  },
  {
   "cell_type": "markdown",
   "metadata": {},
   "source": [
    "Ramesh Sannareddy\n"
   ]
  },
  {
   "cell_type": "markdown",
   "metadata": {},
   "source": [
    "### Other Contributors\n"
   ]
  },
  {
   "cell_type": "markdown",
   "metadata": {},
   "source": [
    "Rav Ahuja\n"
   ]
  },
  {
   "cell_type": "markdown",
   "metadata": {},
   "source": [
    "## Change Log\n"
   ]
  },
  {
   "cell_type": "markdown",
   "metadata": {},
   "source": [
    "|  Date (YYYY-MM-DD) |  Version | Changed By  |  Change Description |\n",
    "|---|---|---|---|\n",
    "| 2020-10-17  | 0.1  | Ramesh Sannareddy  |  Created initial version of the lab |\n"
   ]
  },
  {
   "cell_type": "markdown",
   "metadata": {},
   "source": [
    " Copyright &copy; 2020 IBM Corporation. This notebook and its source code are released under the terms of the [MIT License](https://cognitiveclass.ai/mit-license/?utm_medium=Exinfluencer&utm_source=Exinfluencer&utm_content=000026UJ&utm_term=10006555&utm_id=NA-SkillsNetwork-Channel-SkillsNetworkCoursesIBMDA0321ENSkillsNetwork928-2022-01-01).\n"
   ]
  }
 ],
 "metadata": {
  "kernelspec": {
   "display_name": "Python",
   "language": "python",
   "name": "conda-env-python-py"
  },
  "language_info": {
   "codemirror_mode": {
    "name": "ipython",
    "version": 3
   },
   "file_extension": ".py",
   "mimetype": "text/x-python",
   "name": "python",
   "nbconvert_exporter": "python",
   "pygments_lexer": "ipython3",
   "version": "3.7.12"
  }
 },
 "nbformat": 4,
 "nbformat_minor": 4
}
